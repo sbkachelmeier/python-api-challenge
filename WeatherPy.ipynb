{
 "cells": [
  {
   "cell_type": "markdown",
   "metadata": {},
   "source": [
    "# WeatherPy\n",
    "----\n",
    "\n",
    "#### Note\n",
    "* Instructions have been included for each segment. You do not have to follow them exactly, but they are included to help you think through the steps."
   ]
  },
  {
   "cell_type": "code",
   "execution_count": 2,
   "metadata": {
    "scrolled": true
   },
   "outputs": [],
   "source": [
    "# Dependencies and Setup\n",
    "import matplotlib.pyplot as plt\n",
    "import pandas as pd\n",
    "import numpy as np\n",
    "import requests\n",
    "import time\n",
    "from scipy.stats import linregress\n",
    "import json\n",
    "\n",
    "# Import API key\n",
    "from config import api_key\n",
    "\n",
    "\n",
    "# Incorporated citipy to determine city based on latitude and longitude\n",
    "from citipy import citipy\n",
    "\n",
    "# Output File (CSV)\n",
    "output_data_file = \"output_data/cities.csv\"\n",
    "\n",
    "# Range of latitudes and longitudes\n",
    "lat_range = (-90, 90)\n",
    "lng_range = (-180, 180)"
   ]
  },
  {
   "cell_type": "markdown",
   "metadata": {},
   "source": [
    "## Generate Cities List"
   ]
  },
  {
   "cell_type": "code",
   "execution_count": 3,
   "metadata": {},
   "outputs": [
    {
     "data": {
      "text/plain": [
       "598"
      ]
     },
     "execution_count": 3,
     "metadata": {},
     "output_type": "execute_result"
    }
   ],
   "source": [
    "# List for holding lat_lngs and cities\n",
    "lat_lngs = []\n",
    "cities = []\n",
    "\n",
    "# Create a set of random lat and lng combinations\n",
    "lats = np.random.uniform(lat_range[0], lat_range[1], size=1500)\n",
    "lngs = np.random.uniform(lng_range[0], lng_range[1], size=1500)\n",
    "lat_lngs = zip(lats, lngs)\n",
    "\n",
    "# Identify nearest city for each lat, lng combination\n",
    "for lat_lng in lat_lngs:\n",
    "    city = citipy.nearest_city(lat_lng[0], lat_lng[1]).city_name\n",
    "    \n",
    "    # If the city is unique, then add it to a our cities list\n",
    "    if city not in cities:\n",
    "        cities.append(city)\n",
    "\n",
    "# Print the city count to confirm sufficient count\n",
    "len(cities)"
   ]
  },
  {
   "cell_type": "markdown",
   "metadata": {},
   "source": [
    "### Perform API Calls\n",
    "* Perform a weather check on each city using a series of successive API calls.\n",
    "* Include a print log of each city as it'sbeing processed (with the city number and city name).\n"
   ]
  },
  {
   "cell_type": "code",
   "execution_count": 22,
   "metadata": {},
   "outputs": [],
   "source": [
    "url = \"http://api.openweathermap.org/data/2.5/weather?\"\n",
    "units = \"imperial\"\n",
    "city_list = []\n",
    "for city in cities:\n",
    "    query_url = f\"{url}appid={api_key}&units={units}&q={city}\"\n",
    "    #print(requests.get(query_url).json())\n",
    "    city_list.append(requests.get(query_url).json())\n",
    "\n",
    "    lat.append(response['coord']['lat'])\n",
    "    temp.append(response['main']['temp'])  "
   ]
  },
  {
   "cell_type": "code",
   "execution_count": 5,
   "metadata": {},
   "outputs": [
    {
     "name": "stdout",
     "output_type": "stream",
     "text": [
      "city name is albany\n",
      "city name is new norfolk\n",
      "city name is puerto ayora\n",
      "city not found\n",
      "city name is hirado\n",
      "city name is trairi\n",
      "city name is jamestown\n",
      "city name is ushuaia\n",
      "city name is faanui\n",
      "city name is hamilton\n",
      "city not found\n",
      "city name is butaritari\n",
      "city name is itaberaba\n",
      "city name is tuktoyaktuk\n",
      "city name is bluff\n",
      "city name is avera\n",
      "city name is nouadhibou\n",
      "city name is port hedland\n",
      "city name is itarema\n",
      "city name is vardo\n",
      "city name is mar del plata\n",
      "city name is cockburn town\n",
      "city name is roald\n",
      "city name is yumen\n",
      "city not found\n",
      "city name is fortuna\n",
      "city name is bethel\n",
      "city name is podporozhye\n",
      "city not found\n",
      "city name is ribeira grande\n",
      "city name is tasiilaq\n",
      "city name is corinto\n",
      "city name is vaini\n",
      "city name is whitefish\n",
      "city name is bereda\n",
      "city name is barrow\n",
      "city name is pascagoula\n",
      "city name is takanabe\n",
      "city name is lazurne\n",
      "city not found\n",
      "city not found\n",
      "city name is vangaindrano\n",
      "city name is ravar\n",
      "city name is dikson\n",
      "city name is kruisfontein\n",
      "city name is codrington\n",
      "city name is hermanus\n",
      "city name is tabou\n",
      "city not found\n",
      "city name is bilma\n",
      "city name is mataura\n",
      "city name is xuddur\n",
      "city not found\n",
      "city name is punta arenas\n",
      "city name is jaguarari\n",
      "city name is opuwo\n",
      "city name is bengkulu\n",
      "city name is busselton\n",
      "city name is cotonou\n",
      "city name is pacifica\n",
      "city name is verkhnyaya inta\n",
      "city name is puerto baquerizo moreno\n",
      "city name is saskylakh\n",
      "city name is saint-philippe\n",
      "city name is genhe\n",
      "city name is comodoro rivadavia\n",
      "city name is heihe\n",
      "city name is port elizabeth\n",
      "city name is lebu\n",
      "city name is rikitea\n",
      "city name is kharan\n",
      "city name is pasni\n",
      "city name is yellowknife\n",
      "city name is tra vinh\n",
      "city name is leningradskiy\n",
      "city name is atuona\n",
      "city name is airai\n",
      "city name is quesnel\n",
      "city name is moerai\n",
      "city name is porto-vecchio\n",
      "city name is lavrentiya\n",
      "city not found\n",
      "city name is tiksi\n",
      "city name is georgetown\n",
      "city name is genoa\n",
      "city name is bobbili\n",
      "city name is arraial do cabo\n",
      "city name is qaanaaq\n",
      "city name is kinablangan\n",
      "city name is agboville\n",
      "city name is prince rupert\n",
      "city name is ransang\n",
      "city name is iqaluit\n",
      "city name is kodiak\n",
      "city name is kaili\n",
      "city name is hobyo\n",
      "city name is salalah\n",
      "city name is udachnyy\n",
      "city name is chuy\n",
      "city name is kalianget\n",
      "city name is longyearbyen\n",
      "city name is port alfred\n",
      "city name is norman wells\n",
      "city name is bambanglipuro\n",
      "city name is garanhuns\n",
      "city name is mount gambier\n",
      "city name is broome\n",
      "city name is barcelona\n",
      "city name is nishihara\n",
      "city name is castro\n",
      "city name is orange cove\n",
      "city not found\n",
      "city name is kuusamo\n",
      "city name is chokurdakh\n",
      "city name is carballo\n",
      "city name is alta floresta\n",
      "city name is pitimbu\n",
      "city name is avarua\n",
      "city name is namatanai\n",
      "city name is omboue\n",
      "city name is cape town\n",
      "city name is alofi\n",
      "city not found\n",
      "city name is selyatino\n",
      "city name is cuajinicuilapa\n",
      "city name is akdepe\n",
      "city name is belmonte\n",
      "city name is sao joao da barra\n",
      "city name is pevek\n",
      "city name is saint-pierre\n",
      "city name is tautira\n",
      "city name is sitka\n",
      "city name is kavaratti\n",
      "city name is thompson\n",
      "city not found\n",
      "city name is saint george\n",
      "city name is kroya\n",
      "city not found\n",
      "city name is cabo san lucas\n",
      "city name is bambous virieux\n",
      "city name is dunedin\n",
      "city name is lagoa\n",
      "city name is poum\n",
      "city name is zhigansk\n",
      "city not found\n",
      "city name is los llanos de aridane\n",
      "city name is bogo\n",
      "city not found\n",
      "city name is lashio\n",
      "city name is kapaa\n",
      "city name is novoilinsk\n",
      "city name is luderitz\n",
      "city name is guerrero negro\n",
      "city name is mglin\n",
      "city name is vila velha\n",
      "city name is margate\n",
      "city name is pachino\n",
      "city name is yaqui\n",
      "city name is constitucion\n",
      "city name is mapiripan\n",
      "city name is katsuura\n",
      "city name is hartford\n",
      "city name is clyde river\n",
      "city name is hithadhoo\n",
      "city name is gorno-altaysk\n",
      "city name is caravelas\n",
      "city not found\n",
      "city name is vao\n",
      "city name is bredasdorp\n",
      "city name is kirakira\n",
      "city name is teya\n",
      "city not found\n",
      "city name is saint-georges\n",
      "city name is cidreira\n",
      "city name is tilichiki\n",
      "city name is celestun\n",
      "city name is kavieng\n",
      "city name is panguna\n",
      "city name is muros\n",
      "city name is victoria\n",
      "city name is bafra\n",
      "city name is ferry pass\n",
      "city name is alyangula\n",
      "city name is requena\n",
      "city name is yoichi\n",
      "city not found\n",
      "city name is sao lourenco do sul\n",
      "city name is hobart\n",
      "city name is ahipara\n",
      "city name is aklavik\n",
      "city not found\n",
      "city name is namioka\n",
      "city name is rabo de peixe\n",
      "city name is sorong\n",
      "city name is carnarvon\n",
      "city name is grindavik\n",
      "city name is sioux lookout\n",
      "city name is vila do maio\n",
      "city name is ponta do sol\n",
      "city name is mehriz\n",
      "city name is paulo afonso\n",
      "city name is mandalgovi\n",
      "city name is ambilobe\n",
      "city name is saldanha\n",
      "city name is pokosnoye\n",
      "city name is upernavik\n",
      "city not found\n",
      "city name is caraquet\n",
      "city name is alice\n",
      "city name is nikolskoye\n",
      "city name is tiarei\n",
      "city name is fukue\n",
      "city name is te anau\n",
      "city name is geraldton\n",
      "city name is darovskoy\n",
      "city name is esperance\n",
      "city name is lesnyye polyany\n",
      "city name is adrar\n",
      "city name is naryan-mar\n",
      "city name is novyy urengoy\n",
      "city name is palaikastron\n",
      "city name is camacha\n",
      "city name is marystown\n",
      "city name is surin\n",
      "city name is mitsamiouli\n",
      "city name is las vegas\n",
      "city name is port lincoln\n",
      "city name is kawalu\n",
      "city name is mendota\n",
      "city name is hashtrud\n",
      "city name is ca mau\n",
      "city name is mayo\n",
      "city name is mirpur sakro\n",
      "city name is cherskiy\n",
      "city name is kodinsk\n",
      "city name is ambulu\n",
      "city name is kem\n",
      "city name is arlit\n",
      "city name is itoman\n",
      "city name is olinda\n",
      "city name is umea\n",
      "city name is salekhard\n",
      "city name is barra do garcas\n",
      "city name is namibe\n",
      "city not found\n",
      "city not found\n",
      "city name is alibag\n",
      "city name is la ronge\n",
      "city name is pingliang\n",
      "city name is svetlogorsk\n",
      "city name is aquiraz\n",
      "city name is young\n",
      "city name is peniche\n",
      "city name is tessalit\n",
      "city name is ishigaki\n",
      "city name is mangai\n",
      "city name is ygatimi\n",
      "city not found\n",
      "city name is east london\n",
      "city name is bara\n",
      "city not found\n",
      "city name is bayangol\n",
      "city name is pilar\n",
      "city name is pisco\n",
      "city name is hilo\n",
      "city name is linfen\n",
      "city name is talnakh\n",
      "city name is saint-louis\n",
      "city name is rio gallegos\n",
      "city name is srednekolymsk\n",
      "city name is orocue\n",
      "city name is jalingo\n",
      "city name is mackenzie\n",
      "city name is anadyr\n",
      "city name is hanzhong\n",
      "city name is codajas\n",
      "city name is tura\n",
      "city name is hasaki\n",
      "city name is san policarpo\n",
      "city name is chicama\n",
      "city name is egvekinot\n",
      "city name is rocha\n",
      "city name is lata\n",
      "city name is le vauclin\n",
      "city name is khatanga\n",
      "city name is clearlake\n",
      "city name is cap malheureux\n",
      "city name is saint-leu\n",
      "city not found\n",
      "city name is raton\n",
      "city name is nampa\n",
      "city name is half moon bay\n",
      "city name is zemio\n",
      "city name is buinsk\n",
      "city name is la tuque\n",
      "city name is humaita\n",
      "city name is caracuaro\n",
      "city name is polovinnoye\n",
      "city name is odienne\n",
      "city name is ulaanbaatar\n",
      "city name is hudson bay\n",
      "city name is sao filipe\n",
      "city name is punta alta\n",
      "city name is george\n",
      "city name is hovd\n",
      "city name is aswan\n",
      "city name is usinsk\n",
      "city name is severo-yeniseyskiy\n",
      "city name is jilib\n",
      "city name is janauba\n",
      "city name is yershov\n",
      "city name is provideniya\n",
      "city name is dingle\n",
      "city name is walvis bay\n",
      "city not found\n",
      "city name is tokur\n",
      "city name is yulara\n",
      "city name is ulaangom\n",
      "city name is severo-kurilsk\n",
      "city name is cocobeach\n",
      "city not found\n",
      "city name is dalby\n",
      "city name is quatre cocos\n",
      "city name is abnub\n",
      "city name is maldonado\n",
      "city name is dargaville\n",
      "city name is kaitangata\n",
      "city name is lazdijai\n",
      "city name is kostomuksha\n",
      "city name is ust-tsilma\n",
      "city name is beloha\n",
      "city name is tyrma\n",
      "city name is souillac\n",
      "city name is muravlenko\n",
      "city name is wagar\n",
      "city name is puerto madryn\n",
      "city name is srisailam\n",
      "city name is nador\n",
      "city name is jiazi\n",
      "city name is asilah\n",
      "city name is grand gaube\n",
      "city name is atyrau\n",
      "city name is aksarka\n",
      "city name is odweyne\n",
      "city name is bozdar\n",
      "city name is mizan teferi\n",
      "city name is richards bay\n",
      "city name is bonthe\n",
      "city name is kangaatsiaq\n",
      "city name is deer lake\n",
      "city name is mersing\n",
      "city name is marawi\n",
      "city not found\n",
      "city name is payo\n",
      "city name is meulaboh\n",
      "city name is dharmanagar\n",
      "city name is gorontalo\n",
      "city name is areosa\n",
      "city name is flinders\n",
      "city name is san patricio\n",
      "city name is puerto del rosario\n",
      "city name is okhotsk\n",
      "city name is port hardy\n",
      "city name is andenes\n",
      "city not found\n",
      "city name is ponta delgada\n",
      "city name is nanortalik\n",
      "city name is kisangani\n",
      "city name is karaton\n",
      "city name is isla vista\n",
      "city name is van\n",
      "city name is makubetsu\n",
      "city name is isangel\n",
      "city name is xiaoweizhai\n",
      "city name is tezu\n",
      "city name is dubovka\n",
      "city name is la rioja\n",
      "city name is portland\n"
     ]
    },
    {
     "name": "stdout",
     "output_type": "stream",
     "text": [
      "city name is nouakchott\n",
      "city name is los patios\n",
      "city name is kayerkan\n",
      "city name is hofn\n",
      "city name is vila franca do campo\n",
      "city name is bundaberg\n",
      "city name is padang\n",
      "city name is kokopo\n",
      "city name is zhezkazgan\n",
      "city name is umm kaddadah\n",
      "city name is dutlwe\n",
      "city name is coquimbo\n",
      "city name is cavalcante\n",
      "city name is ossora\n",
      "city name is indian head\n",
      "city name is kalmar\n",
      "city name is kidal\n",
      "city name is mahajanga\n",
      "city name is matara\n",
      "city name is bama\n",
      "city not found\n",
      "city name is husavik\n",
      "city name is kapit\n",
      "city name is mopti\n",
      "city name is boshnyakovo\n",
      "city name is bogorodsk\n",
      "city name is coolum beach\n",
      "city name is lanigan\n",
      "city name is do gonbadan\n",
      "city name is suleja\n",
      "city name is san borja\n",
      "city name is port-gentil\n",
      "city name is forestville\n",
      "city not found\n",
      "city name is port blair\n",
      "city name is nantucket\n",
      "city name is fort nelson\n",
      "city name is berdigestyakh\n",
      "city name is ballangen\n",
      "city name is omsukchan\n",
      "city name is mazamari\n",
      "city name is kenai\n",
      "city name is mehamn\n",
      "city name is oranjemund\n",
      "city name is lloydminster\n",
      "city name is orichi\n",
      "city name is quebec\n",
      "city name is middelburg\n",
      "city name is manggar\n",
      "city name is gigmoto\n",
      "city name is nome\n",
      "city name is progress\n",
      "city name is ola\n",
      "city name is lexington park\n",
      "city name is kudahuvadhoo\n",
      "city name is monrovia\n",
      "city name is mariestad\n",
      "city not found\n",
      "city name is obidos\n",
      "city name is moron\n",
      "city name is keetmanshoop\n",
      "city name is nelson bay\n",
      "city name is novonikolayevskiy\n",
      "city name is pangody\n",
      "city name is kiunga\n",
      "city name is perth\n",
      "city name is dombarovskiy\n",
      "city name is burgos\n",
      "city name is lakes entrance\n",
      "city name is vanimo\n",
      "city name is mahebourg\n",
      "city name is derzhavinsk\n",
      "city name is saint anthony\n",
      "city name is vestmannaeyjar\n",
      "city name is reno\n",
      "city name is sosnovka\n",
      "city name is kalabo\n",
      "city name is gizo\n",
      "city name is luchenza\n",
      "city name is porto novo\n",
      "city name is ludwigslust\n",
      "city name is maniitsoq\n",
      "city name is kinsale\n",
      "city name is neiafu\n",
      "city name is coahuayana\n",
      "city name is dongsheng\n",
      "city name is malakal\n",
      "city name is hayden\n",
      "city name is bratsk\n",
      "city name is mount isa\n",
      "city name is ostrovnoy\n",
      "city name is hualmay\n",
      "city name is bud\n",
      "city name is la macarena\n",
      "city not found\n",
      "city name is antofagasta\n",
      "city name is baghdad\n",
      "city name is erenhot\n",
      "city name is tumaco\n",
      "city name is suez\n",
      "city name is syracuse\n",
      "city name is chimore\n",
      "city name is cairns\n",
      "city name is north vanlaiphai\n",
      "city name is two rivers\n",
      "city name is kahului\n",
      "city name is kurtamysh\n",
      "city name is okato\n",
      "city name is touros\n",
      "city not found\n",
      "city name is santa vitoria do palmar\n",
      "city name is beyneu\n",
      "city name is susehri\n",
      "city name is shizuishan\n",
      "city name is petropavlovsk-kamchatskiy\n",
      "city name is iroquois falls\n",
      "city name is vilhena\n",
      "city name is paamiut\n",
      "city name is amherst\n",
      "city name is naze\n",
      "city not found\n",
      "city name is kismayo\n",
      "city name is penedo\n",
      "city name is halmstad\n",
      "city name is ilebo\n",
      "city name is kosh-agach\n",
      "city name is najran\n",
      "city name is victor harbor\n",
      "city name is lorengau\n",
      "city name is qui nhon\n",
      "city name is stokmarknes\n",
      "city name is labrea\n",
      "city name is panchagarh\n",
      "city name is rzhev\n",
      "city name is wilmington\n",
      "city name is uruburetama\n",
      "city name is rewari\n",
      "city name is buala\n",
      "city name is chumikan\n",
      "city name is north bend\n",
      "city name is kaeo\n",
      "city name is torbay\n",
      "city name is taoudenni\n",
      "city name is tadine\n",
      "city name is bonnyville\n",
      "city name is georgiyevka\n",
      "city name is megion\n",
      "city name is digha\n",
      "city name is mongoumba\n",
      "city name is kalmunai\n",
      "city name is north battleford\n",
      "city name is casselman\n",
      "city not found\n",
      "city name is klintsy\n",
      "city name is sur\n",
      "city name is puerto escondido\n",
      "city name is waddan\n",
      "city name is flin flon\n",
      "city name is panama city\n",
      "city name is dumabato\n",
      "city not found\n",
      "city name is cherdyn\n",
      "city name is kuala terengganu\n",
      "city name is barcelos\n",
      "city name is ciudad bolivar\n",
      "city name is birjand\n",
      "city name is isla mujeres\n",
      "city name is lerwick\n",
      "city name is ngunguru\n",
      "city name is whyalla\n",
      "city name is biak\n",
      "city name is esil\n",
      "city name is ostersund\n",
      "city name is edmonton\n",
      "city name is sorland\n",
      "city name is haines junction\n",
      "city name is yerbogachen\n",
      "city name is hun\n",
      "city name is cayenne\n",
      "city name is puerto penasco\n",
      "city name is taitung\n",
      "city name is soyo\n",
      "city name is herat\n",
      "city not found\n",
      "city name is ayan\n",
      "city name is hami\n",
      "city name is filingue\n",
      "city name is talcahuano\n",
      "city name is banikoara\n",
      "city name is sola\n",
      "city not found\n",
      "city name is cap-haitien\n",
      "city name is manavalakurichi\n",
      "city name is makakilo city\n",
      "city name is la romana\n",
      "city not found\n",
      "city name is port-cartier\n",
      "city name is aykhal\n",
      "city name is mujiayingzi\n",
      "city name is rancho palos verdes\n",
      "city name is hendek\n",
      "city name is tanete\n",
      "city name is san cristobal\n",
      "city name is rawson\n",
      "city name is faya\n",
      "city name is tikapur\n",
      "city name is san felipe\n",
      "city not found\n",
      "city name is de-kastri\n",
      "city name is banapur\n",
      "city name is tual\n",
      "city name is lekoni\n",
      "city name is riverton\n",
      "city name is brae\n",
      "city name is luangwa\n",
      "city name is strezhevoy\n",
      "city name is amapa\n",
      "city name is ilovlya\n",
      "city name is bathsheba\n",
      "city name is goundam\n"
     ]
    }
   ],
   "source": [
    "url = \"http://api.openweathermap.org/data/2.5/weather?\"\n",
    "units = \"imperial\"\n",
    "city_list = []\n",
    "lat = []\n",
    "long = []\n",
    "temp = []\n",
    "humidity = []\n",
    "cloud = []\n",
    "wind_speed = []\n",
    "country = []\n",
    "date = []\n",
    "for city in cities:\n",
    "    try: \n",
    "        query_url = f\"{url}appid={api_key}&units={units}&q={city}\"\n",
    "        response = requests.get(query_url).json()\n",
    "        lat.append(response['coord']['lat'])\n",
    "        long.append(response['coord']['lon'])\n",
    "        temp.append(response['main']['temp_max'])\n",
    "        humidity.append(response['main']['humidity'])\n",
    "        cloud.append(response['clouds']['all'])\n",
    "        wind_speed.append(response['wind']['speed'])\n",
    "        country.append(response['sys']['country'])\n",
    "        date.append(response['dt'])\n",
    "        city_list.append(city)\n",
    "        print(\"city name is \" + city)\n",
    "    except:\n",
    "        print(\"city not found\")\n",
    "    "
   ]
  },
  {
   "cell_type": "markdown",
   "metadata": {},
   "source": [
    "### Convert Raw Data to DataFrame\n",
    "* Export the city data into a .csv.\n",
    "* Display the DataFrame"
   ]
  },
  {
   "cell_type": "code",
   "execution_count": 7,
   "metadata": {
    "scrolled": true
   },
   "outputs": [
    {
     "data": {
      "text/html": [
       "<div>\n",
       "<style scoped>\n",
       "    .dataframe tbody tr th:only-of-type {\n",
       "        vertical-align: middle;\n",
       "    }\n",
       "\n",
       "    .dataframe tbody tr th {\n",
       "        vertical-align: top;\n",
       "    }\n",
       "\n",
       "    .dataframe thead th {\n",
       "        text-align: right;\n",
       "    }\n",
       "</style>\n",
       "<table border=\"1\" class=\"dataframe\">\n",
       "  <thead>\n",
       "    <tr style=\"text-align: right;\">\n",
       "      <th></th>\n",
       "      <th>city_name</th>\n",
       "      <th>Date</th>\n",
       "      <th>Country</th>\n",
       "      <th>Latitude</th>\n",
       "      <th>Longitude</th>\n",
       "      <th>Temperature</th>\n",
       "      <th>Humidity</th>\n",
       "      <th>Cloudiness</th>\n",
       "      <th>Wind Speed</th>\n",
       "    </tr>\n",
       "  </thead>\n",
       "  <tbody>\n",
       "    <tr>\n",
       "      <th>0</th>\n",
       "      <td>albany</td>\n",
       "      <td>1596401825</td>\n",
       "      <td>US</td>\n",
       "      <td>42.60</td>\n",
       "      <td>-73.97</td>\n",
       "      <td>87.01</td>\n",
       "      <td>62</td>\n",
       "      <td>60</td>\n",
       "      <td>11.39</td>\n",
       "    </tr>\n",
       "    <tr>\n",
       "      <th>1</th>\n",
       "      <td>new norfolk</td>\n",
       "      <td>1596401825</td>\n",
       "      <td>AU</td>\n",
       "      <td>-42.78</td>\n",
       "      <td>147.06</td>\n",
       "      <td>45.00</td>\n",
       "      <td>82</td>\n",
       "      <td>78</td>\n",
       "      <td>1.99</td>\n",
       "    </tr>\n",
       "    <tr>\n",
       "      <th>2</th>\n",
       "      <td>puerto ayora</td>\n",
       "      <td>1596401825</td>\n",
       "      <td>EC</td>\n",
       "      <td>-0.74</td>\n",
       "      <td>-90.35</td>\n",
       "      <td>77.00</td>\n",
       "      <td>69</td>\n",
       "      <td>75</td>\n",
       "      <td>13.87</td>\n",
       "    </tr>\n",
       "    <tr>\n",
       "      <th>3</th>\n",
       "      <td>hirado</td>\n",
       "      <td>1596401826</td>\n",
       "      <td>JP</td>\n",
       "      <td>33.36</td>\n",
       "      <td>129.55</td>\n",
       "      <td>78.01</td>\n",
       "      <td>81</td>\n",
       "      <td>86</td>\n",
       "      <td>1.01</td>\n",
       "    </tr>\n",
       "    <tr>\n",
       "      <th>4</th>\n",
       "      <td>trairi</td>\n",
       "      <td>1596401826</td>\n",
       "      <td>BR</td>\n",
       "      <td>-3.28</td>\n",
       "      <td>-39.27</td>\n",
       "      <td>78.91</td>\n",
       "      <td>77</td>\n",
       "      <td>4</td>\n",
       "      <td>11.41</td>\n",
       "    </tr>\n",
       "    <tr>\n",
       "      <th>5</th>\n",
       "      <td>jamestown</td>\n",
       "      <td>1596401674</td>\n",
       "      <td>US</td>\n",
       "      <td>42.10</td>\n",
       "      <td>-79.24</td>\n",
       "      <td>73.99</td>\n",
       "      <td>88</td>\n",
       "      <td>90</td>\n",
       "      <td>13.87</td>\n",
       "    </tr>\n",
       "    <tr>\n",
       "      <th>6</th>\n",
       "      <td>ushuaia</td>\n",
       "      <td>1596401722</td>\n",
       "      <td>AR</td>\n",
       "      <td>-54.80</td>\n",
       "      <td>-68.30</td>\n",
       "      <td>41.00</td>\n",
       "      <td>75</td>\n",
       "      <td>20</td>\n",
       "      <td>19.46</td>\n",
       "    </tr>\n",
       "    <tr>\n",
       "      <th>7</th>\n",
       "      <td>faanui</td>\n",
       "      <td>1596401826</td>\n",
       "      <td>PF</td>\n",
       "      <td>-16.48</td>\n",
       "      <td>-151.75</td>\n",
       "      <td>78.46</td>\n",
       "      <td>79</td>\n",
       "      <td>100</td>\n",
       "      <td>11.54</td>\n",
       "    </tr>\n",
       "    <tr>\n",
       "      <th>8</th>\n",
       "      <td>hamilton</td>\n",
       "      <td>1596401826</td>\n",
       "      <td>US</td>\n",
       "      <td>39.18</td>\n",
       "      <td>-84.53</td>\n",
       "      <td>81.00</td>\n",
       "      <td>57</td>\n",
       "      <td>75</td>\n",
       "      <td>10.29</td>\n",
       "    </tr>\n",
       "    <tr>\n",
       "      <th>9</th>\n",
       "      <td>butaritari</td>\n",
       "      <td>1596401826</td>\n",
       "      <td>KI</td>\n",
       "      <td>3.07</td>\n",
       "      <td>172.79</td>\n",
       "      <td>82.53</td>\n",
       "      <td>74</td>\n",
       "      <td>9</td>\n",
       "      <td>15.32</td>\n",
       "    </tr>\n",
       "    <tr>\n",
       "      <th>10</th>\n",
       "      <td>itaberaba</td>\n",
       "      <td>1596401826</td>\n",
       "      <td>BR</td>\n",
       "      <td>-12.53</td>\n",
       "      <td>-40.31</td>\n",
       "      <td>73.90</td>\n",
       "      <td>58</td>\n",
       "      <td>22</td>\n",
       "      <td>9.69</td>\n",
       "    </tr>\n",
       "    <tr>\n",
       "      <th>11</th>\n",
       "      <td>tuktoyaktuk</td>\n",
       "      <td>1596401827</td>\n",
       "      <td>CA</td>\n",
       "      <td>69.45</td>\n",
       "      <td>-133.04</td>\n",
       "      <td>46.40</td>\n",
       "      <td>93</td>\n",
       "      <td>90</td>\n",
       "      <td>17.22</td>\n",
       "    </tr>\n",
       "    <tr>\n",
       "      <th>12</th>\n",
       "      <td>bluff</td>\n",
       "      <td>1596401827</td>\n",
       "      <td>NZ</td>\n",
       "      <td>-46.60</td>\n",
       "      <td>168.33</td>\n",
       "      <td>46.11</td>\n",
       "      <td>94</td>\n",
       "      <td>58</td>\n",
       "      <td>7.05</td>\n",
       "    </tr>\n",
       "    <tr>\n",
       "      <th>13</th>\n",
       "      <td>avera</td>\n",
       "      <td>1596401827</td>\n",
       "      <td>US</td>\n",
       "      <td>33.19</td>\n",
       "      <td>-82.53</td>\n",
       "      <td>96.80</td>\n",
       "      <td>46</td>\n",
       "      <td>1</td>\n",
       "      <td>5.82</td>\n",
       "    </tr>\n",
       "    <tr>\n",
       "      <th>14</th>\n",
       "      <td>nouadhibou</td>\n",
       "      <td>1596401706</td>\n",
       "      <td>MR</td>\n",
       "      <td>20.93</td>\n",
       "      <td>-17.03</td>\n",
       "      <td>73.40</td>\n",
       "      <td>83</td>\n",
       "      <td>0</td>\n",
       "      <td>20.80</td>\n",
       "    </tr>\n",
       "    <tr>\n",
       "      <th>15</th>\n",
       "      <td>port hedland</td>\n",
       "      <td>1596401827</td>\n",
       "      <td>AU</td>\n",
       "      <td>-20.32</td>\n",
       "      <td>118.57</td>\n",
       "      <td>57.20</td>\n",
       "      <td>100</td>\n",
       "      <td>90</td>\n",
       "      <td>5.82</td>\n",
       "    </tr>\n",
       "    <tr>\n",
       "      <th>16</th>\n",
       "      <td>itarema</td>\n",
       "      <td>1596401827</td>\n",
       "      <td>BR</td>\n",
       "      <td>-2.92</td>\n",
       "      <td>-39.92</td>\n",
       "      <td>79.02</td>\n",
       "      <td>77</td>\n",
       "      <td>2</td>\n",
       "      <td>13.62</td>\n",
       "    </tr>\n",
       "    <tr>\n",
       "      <th>17</th>\n",
       "      <td>vardo</td>\n",
       "      <td>1596401827</td>\n",
       "      <td>NO</td>\n",
       "      <td>70.37</td>\n",
       "      <td>31.11</td>\n",
       "      <td>48.20</td>\n",
       "      <td>100</td>\n",
       "      <td>75</td>\n",
       "      <td>11.41</td>\n",
       "    </tr>\n",
       "    <tr>\n",
       "      <th>18</th>\n",
       "      <td>mar del plata</td>\n",
       "      <td>1596401770</td>\n",
       "      <td>AR</td>\n",
       "      <td>-38.00</td>\n",
       "      <td>-57.56</td>\n",
       "      <td>57.20</td>\n",
       "      <td>62</td>\n",
       "      <td>96</td>\n",
       "      <td>6.93</td>\n",
       "    </tr>\n",
       "    <tr>\n",
       "      <th>19</th>\n",
       "      <td>cockburn town</td>\n",
       "      <td>1596401625</td>\n",
       "      <td>TC</td>\n",
       "      <td>21.46</td>\n",
       "      <td>-71.14</td>\n",
       "      <td>86.00</td>\n",
       "      <td>70</td>\n",
       "      <td>40</td>\n",
       "      <td>13.87</td>\n",
       "    </tr>\n",
       "  </tbody>\n",
       "</table>\n",
       "</div>"
      ],
      "text/plain": [
       "        city_name        Date Country  Latitude  Longitude  Temperature  \\\n",
       "0          albany  1596401825      US     42.60     -73.97        87.01   \n",
       "1     new norfolk  1596401825      AU    -42.78     147.06        45.00   \n",
       "2    puerto ayora  1596401825      EC     -0.74     -90.35        77.00   \n",
       "3          hirado  1596401826      JP     33.36     129.55        78.01   \n",
       "4          trairi  1596401826      BR     -3.28     -39.27        78.91   \n",
       "5       jamestown  1596401674      US     42.10     -79.24        73.99   \n",
       "6         ushuaia  1596401722      AR    -54.80     -68.30        41.00   \n",
       "7          faanui  1596401826      PF    -16.48    -151.75        78.46   \n",
       "8        hamilton  1596401826      US     39.18     -84.53        81.00   \n",
       "9      butaritari  1596401826      KI      3.07     172.79        82.53   \n",
       "10      itaberaba  1596401826      BR    -12.53     -40.31        73.90   \n",
       "11    tuktoyaktuk  1596401827      CA     69.45    -133.04        46.40   \n",
       "12          bluff  1596401827      NZ    -46.60     168.33        46.11   \n",
       "13          avera  1596401827      US     33.19     -82.53        96.80   \n",
       "14     nouadhibou  1596401706      MR     20.93     -17.03        73.40   \n",
       "15   port hedland  1596401827      AU    -20.32     118.57        57.20   \n",
       "16        itarema  1596401827      BR     -2.92     -39.92        79.02   \n",
       "17          vardo  1596401827      NO     70.37      31.11        48.20   \n",
       "18  mar del plata  1596401770      AR    -38.00     -57.56        57.20   \n",
       "19  cockburn town  1596401625      TC     21.46     -71.14        86.00   \n",
       "\n",
       "    Humidity  Cloudiness  Wind Speed  \n",
       "0         62          60       11.39  \n",
       "1         82          78        1.99  \n",
       "2         69          75       13.87  \n",
       "3         81          86        1.01  \n",
       "4         77           4       11.41  \n",
       "5         88          90       13.87  \n",
       "6         75          20       19.46  \n",
       "7         79         100       11.54  \n",
       "8         57          75       10.29  \n",
       "9         74           9       15.32  \n",
       "10        58          22        9.69  \n",
       "11        93          90       17.22  \n",
       "12        94          58        7.05  \n",
       "13        46           1        5.82  \n",
       "14        83           0       20.80  \n",
       "15       100          90        5.82  \n",
       "16        77           2       13.62  \n",
       "17       100          75       11.41  \n",
       "18        62          96        6.93  \n",
       "19        70          40       13.87  "
      ]
     },
     "execution_count": 7,
     "metadata": {},
     "output_type": "execute_result"
    }
   ],
   "source": [
    "weather_df = pd.DataFrame({\"city_name\": city_list,\n",
    "                           \"Date\": date,\n",
    "                          \"Country\": country,\n",
    "                          \"Latitude\": lat,\n",
    "                          \"Longitude\": long,\n",
    "                          \"Temperature\": temp,\n",
    "                           \"Humidity\": humidity,\n",
    "                          \"Cloudiness\": cloud,\n",
    "                          \"Wind Speed\": wind_speed})\n",
    "\n",
    "weather_df.to_csv(\"weather_df.csv\", encoding=\"utf-8\", index=False)\n",
    "weather_df.head(20)\n",
    "\n"
   ]
  },
  {
   "cell_type": "markdown",
   "metadata": {},
   "source": [
    "## Inspect the data and remove the cities where the humidity > 100%.\n",
    "----\n",
    "Skip this step if there are no cities that have humidity > 100%. "
   ]
  },
  {
   "cell_type": "code",
   "execution_count": 8,
   "metadata": {},
   "outputs": [
    {
     "data": {
      "text/html": [
       "<div>\n",
       "<style scoped>\n",
       "    .dataframe tbody tr th:only-of-type {\n",
       "        vertical-align: middle;\n",
       "    }\n",
       "\n",
       "    .dataframe tbody tr th {\n",
       "        vertical-align: top;\n",
       "    }\n",
       "\n",
       "    .dataframe thead th {\n",
       "        text-align: right;\n",
       "    }\n",
       "</style>\n",
       "<table border=\"1\" class=\"dataframe\">\n",
       "  <thead>\n",
       "    <tr style=\"text-align: right;\">\n",
       "      <th></th>\n",
       "      <th>city_name</th>\n",
       "      <th>Date</th>\n",
       "      <th>Country</th>\n",
       "      <th>Latitude</th>\n",
       "      <th>Longitude</th>\n",
       "      <th>Temperature</th>\n",
       "      <th>Humidity</th>\n",
       "      <th>Cloudiness</th>\n",
       "      <th>Wind Speed</th>\n",
       "    </tr>\n",
       "  </thead>\n",
       "  <tbody>\n",
       "  </tbody>\n",
       "</table>\n",
       "</div>"
      ],
      "text/plain": [
       "Empty DataFrame\n",
       "Columns: [city_name, Date, Country, Latitude, Longitude, Temperature, Humidity, Cloudiness, Wind Speed]\n",
       "Index: []"
      ]
     },
     "execution_count": 8,
     "metadata": {},
     "output_type": "execute_result"
    }
   ],
   "source": [
    "humidity_100 = weather_df.loc[weather_df[\"Humidity\"] > 100]\n",
    "humidity_100"
   ]
  },
  {
   "cell_type": "code",
   "execution_count": 9,
   "metadata": {},
   "outputs": [
    {
     "name": "stdout",
     "output_type": "stream",
     "text": [
      "There are none.\n"
     ]
    }
   ],
   "source": [
    "#  Get the indices of cities that have humidity over 100%.\n",
    "print(\"There are none.\")"
   ]
  },
  {
   "cell_type": "code",
   "execution_count": 10,
   "metadata": {},
   "outputs": [],
   "source": [
    "# Make a new DataFrame equal to the city data to drop all humidity outliers by index.\n",
    "# Passing \"inplace=False\" will make a copy of the city_data DataFrame, which we call \"clean_city_data\".\n"
   ]
  },
  {
   "cell_type": "code",
   "execution_count": 11,
   "metadata": {},
   "outputs": [
    {
     "data": {
      "text/html": [
       "<div>\n",
       "<style scoped>\n",
       "    .dataframe tbody tr th:only-of-type {\n",
       "        vertical-align: middle;\n",
       "    }\n",
       "\n",
       "    .dataframe tbody tr th {\n",
       "        vertical-align: top;\n",
       "    }\n",
       "\n",
       "    .dataframe thead th {\n",
       "        text-align: right;\n",
       "    }\n",
       "</style>\n",
       "<table border=\"1\" class=\"dataframe\">\n",
       "  <thead>\n",
       "    <tr style=\"text-align: right;\">\n",
       "      <th></th>\n",
       "      <th>city_name</th>\n",
       "      <th>Date</th>\n",
       "      <th>Country</th>\n",
       "      <th>Latitude</th>\n",
       "      <th>Longitude</th>\n",
       "      <th>Temperature</th>\n",
       "      <th>Humidity</th>\n",
       "      <th>Cloudiness</th>\n",
       "      <th>Wind Speed</th>\n",
       "    </tr>\n",
       "  </thead>\n",
       "  <tbody>\n",
       "    <tr>\n",
       "      <th>0</th>\n",
       "      <td>albany</td>\n",
       "      <td>1596401825</td>\n",
       "      <td>US</td>\n",
       "      <td>42.60</td>\n",
       "      <td>-73.97</td>\n",
       "      <td>87.01</td>\n",
       "      <td>62</td>\n",
       "      <td>60</td>\n",
       "      <td>11.39</td>\n",
       "    </tr>\n",
       "    <tr>\n",
       "      <th>1</th>\n",
       "      <td>new norfolk</td>\n",
       "      <td>1596401825</td>\n",
       "      <td>AU</td>\n",
       "      <td>-42.78</td>\n",
       "      <td>147.06</td>\n",
       "      <td>45.00</td>\n",
       "      <td>82</td>\n",
       "      <td>78</td>\n",
       "      <td>1.99</td>\n",
       "    </tr>\n",
       "    <tr>\n",
       "      <th>2</th>\n",
       "      <td>puerto ayora</td>\n",
       "      <td>1596401825</td>\n",
       "      <td>EC</td>\n",
       "      <td>-0.74</td>\n",
       "      <td>-90.35</td>\n",
       "      <td>77.00</td>\n",
       "      <td>69</td>\n",
       "      <td>75</td>\n",
       "      <td>13.87</td>\n",
       "    </tr>\n",
       "    <tr>\n",
       "      <th>3</th>\n",
       "      <td>hirado</td>\n",
       "      <td>1596401826</td>\n",
       "      <td>JP</td>\n",
       "      <td>33.36</td>\n",
       "      <td>129.55</td>\n",
       "      <td>78.01</td>\n",
       "      <td>81</td>\n",
       "      <td>86</td>\n",
       "      <td>1.01</td>\n",
       "    </tr>\n",
       "    <tr>\n",
       "      <th>4</th>\n",
       "      <td>trairi</td>\n",
       "      <td>1596401826</td>\n",
       "      <td>BR</td>\n",
       "      <td>-3.28</td>\n",
       "      <td>-39.27</td>\n",
       "      <td>78.91</td>\n",
       "      <td>77</td>\n",
       "      <td>4</td>\n",
       "      <td>11.41</td>\n",
       "    </tr>\n",
       "  </tbody>\n",
       "</table>\n",
       "</div>"
      ],
      "text/plain": [
       "      city_name        Date Country  Latitude  Longitude  Temperature  \\\n",
       "0        albany  1596401825      US     42.60     -73.97        87.01   \n",
       "1   new norfolk  1596401825      AU    -42.78     147.06        45.00   \n",
       "2  puerto ayora  1596401825      EC     -0.74     -90.35        77.00   \n",
       "3        hirado  1596401826      JP     33.36     129.55        78.01   \n",
       "4        trairi  1596401826      BR     -3.28     -39.27        78.91   \n",
       "\n",
       "   Humidity  Cloudiness  Wind Speed  \n",
       "0        62          60       11.39  \n",
       "1        82          78        1.99  \n",
       "2        69          75       13.87  \n",
       "3        81          86        1.01  \n",
       "4        77           4       11.41  "
      ]
     },
     "execution_count": 11,
     "metadata": {},
     "output_type": "execute_result"
    }
   ],
   "source": [
    "# Extract relevant fields from the data frame\n",
    "\n",
    "\n",
    "# Export the City_Data into a csv\n",
    "weather_df.head()\n"
   ]
  },
  {
   "cell_type": "markdown",
   "metadata": {},
   "source": [
    "## Plotting the Data\n",
    "* Use proper labeling of the plots using plot titles (including date of analysis) and axes labels.\n",
    "* Save the plotted figures as .pngs."
   ]
  },
  {
   "cell_type": "markdown",
   "metadata": {},
   "source": [
    "## Latitude vs. Temperature Plot"
   ]
  },
  {
   "cell_type": "code",
   "execution_count": 42,
   "metadata": {
    "scrolled": true
   },
   "outputs": [
    {
     "data": {
      "image/png": "[encoded data removed]",
      "text/plain": [
       "<Figure size 432x288 with 1 Axes>"
      ]
     },
     "metadata": {
      "needs_background": "light"
     },
     "output_type": "display_data"
    }
   ],
   "source": [
    "\n",
    "plt.scatter(lat, temp)\n",
    "plt.title(\"Latitude vs Max Temperature 08/02/2020\")\n",
    "plt.xlabel(\"Latitude\")\n",
    "plt.ylabel(\"Maximum Temperature\")\n",
    "plt.show()\n",
    "            "
   ]
  },
  {
   "cell_type": "markdown",
   "metadata": {},
   "source": [
    "## Latitude vs. Humidity Plot"
   ]
  },
  {
   "cell_type": "code",
   "execution_count": 48,
   "metadata": {
    "scrolled": true
   },
   "outputs": [
    {
     "data": {
      "image/png": "[encoded data removed]",
      "text/plain": [
       "<Figure size 432x288 with 1 Axes>"
      ]
     },
     "metadata": {
      "needs_background": "light"
     },
     "output_type": "display_data"
    }
   ],
   "source": [
    "\n",
    "x_values = weather_df[\"Latitude\"]\n",
    "y_values = weather_df[\"Humidity\"]\n",
    "plt.scatter(x_values, y_values)\n",
    "plt.title(\"Latitude vs Humidity 08/02/2020\")\n",
    "plt.xlabel(\"Latitude\")\n",
    "plt.ylabel(\"Humidity\")\n",
    "plt.show()"
   ]
  },
  {
   "cell_type": "markdown",
   "metadata": {},
   "source": [
    "## Latitude vs. Cloudiness Plot"
   ]
  },
  {
   "cell_type": "code",
   "execution_count": 49,
   "metadata": {},
   "outputs": [
    {
     "data": {
      "image/png": "[encoded data removed]",
      "text/plain": [
       "<Figure size 432x288 with 1 Axes>"
      ]
     },
     "metadata": {
      "needs_background": "light"
     },
     "output_type": "display_data"
    }
   ],
   "source": [
    "x_values = weather_df[\"Latitude\"]\n",
    "y_values = weather_df[\"Cloudiness\"]\n",
    "plt.scatter(x_values, y_values)\n",
    "plt.title(\"Latitude vs Cloudiness 08/02/2020\")\n",
    "plt.xlabel(\"Latitude\")\n",
    "plt.ylabel(\"Cloudiness\")\n",
    "plt.show()"
   ]
  },
  {
   "cell_type": "markdown",
   "metadata": {},
   "source": [
    "## Latitude vs. Wind Speed Plot"
   ]
  },
  {
   "cell_type": "code",
   "execution_count": 51,
   "metadata": {},
   "outputs": [
    {
     "data": {
      "image/png": "[encoded data removed]",
      "text/plain": [
       "<Figure size 432x288 with 1 Axes>"
      ]
     },
     "metadata": {
      "needs_background": "light"
     },
     "output_type": "display_data"
    }
   ],
   "source": [
    "x_values = weather_df[\"Latitude\"]\n",
    "y_values = weather_df[\"Wind Speed\"]\n",
    "plt.scatter(x_values, y_values)\n",
    "plt.title(\"Latitude vs Wind Speed 08/02/2020\")\n",
    "plt.xlabel(\"Latitude\")\n",
    "plt.ylabel(\"Wind Speed\")\n",
    "plt.show()"
   ]
  },
  {
   "cell_type": "markdown",
   "metadata": {},
   "source": [
    "## Linear Regression"
   ]
  },
  {
   "cell_type": "code",
   "execution_count": 44,
   "metadata": {},
   "outputs": [],
   "source": [
    "# OPTIONAL: Create a function to create Linear Regression plots\n",
    "def linear_plot(x_values, y_values, y_label, coordinate):\n",
    "    (slope, intercept, rvalue, pvalue, stderr) = linregress(x_values, y_values)\n",
    "    regress_values = x_values * slope + intercept\n",
    "    line_eq = \"y = \" + str(round(slope,2)) + \"x + \" + str(round(intercept,2))\n",
    "    plt.scatter(x_values,y_values)\n",
    "    plt.plot(x_values,regress_values,\"r-\")\n",
    "    plt.annotate(line_eq,coordinate,fontsize=15,color=\"red\")\n",
    "    plt.xlabel('Latitude')\n",
    "    plt.ylabel(y_label)\n",
    "    plt.show()"
   ]
  },
  {
   "cell_type": "code",
   "execution_count": 45,
   "metadata": {},
   "outputs": [],
   "source": [
    "# Create Northern and Southern Hemisphere DataFrames\\\n",
    "northern_hemisphere = weather_df.loc[weather_df[\"Latitude\"] >= 0]\n",
    "southern_hemisphere = weather_df.loc[weather_df[\"Latitude\"] < 0]\n"
   ]
  },
  {
   "cell_type": "markdown",
   "metadata": {},
   "source": [
    "####  Northern Hemisphere - Max Temp vs. Latitude Linear Regression"
   ]
  },
  {
   "cell_type": "code",
   "execution_count": 63,
   "metadata": {},
   "outputs": [
    {
     "data": {
      "image/png": "[encoded data removed]",
      "text/plain": [
       "<Figure size 432x288 with 1 Axes>"
      ]
     },
     "metadata": {
      "needs_background": "light"
     },
     "output_type": "display_data"
    }
   ],
   "source": [
    "x_values = northern_hemisphere[\"Latitude\"]\n",
    "y_values = northern_hemisphere[\"Temperature\"]\n",
    "plt.title(\"Latitude vs Max Temperature--Northern Hemisphere\")\n",
    "linear_plot(x_values, y_values, \"Maximum Temperature\", (10,40))"
   ]
  },
  {
   "cell_type": "markdown",
   "metadata": {},
   "source": [
    "####  Southern Hemisphere - Max Temp vs. Latitude Linear Regression"
   ]
  },
  {
   "cell_type": "code",
   "execution_count": 64,
   "metadata": {},
   "outputs": [
    {
     "data": {
      "image/png": "[encoded data removed]",
      "text/plain": [
       "<Figure size 432x288 with 1 Axes>"
      ]
     },
     "metadata": {
      "needs_background": "light"
     },
     "output_type": "display_data"
    }
   ],
   "source": [
    "x_values = southern_hemisphere[\"Latitude\"]\n",
    "y_values = southern_hemisphere[\"Temperature\"]\n",
    "plt.title(\"Latitude vs Max Temperature--Southern Hemisphere\")\n",
    "linear_plot(x_values, y_values, \"Maximum Temperature\", (-25,40))"
   ]
  },
  {
   "cell_type": "markdown",
   "metadata": {},
   "source": [
    "####  Northern Hemisphere - Humidity (%) vs. Latitude Linear Regression"
   ]
  },
  {
   "cell_type": "code",
   "execution_count": 62,
   "metadata": {},
   "outputs": [
    {
     "data": {
      "image/png": "[encoded data removed]",
      "text/plain": [
       "<Figure size 432x288 with 1 Axes>"
      ]
     },
     "metadata": {
      "needs_background": "light"
     },
     "output_type": "display_data"
    }
   ],
   "source": [
    "x_values = northern_hemisphere[\"Latitude\"]\n",
    "y_values = northern_hemisphere[\"Humidity\"]\n",
    "plt.title(\"Latitude vs Humidity--Northern Hemisphere\")\n",
    "linear_plot(x_values, y_values, \"Humidity\", (45,10))"
   ]
  },
  {
   "cell_type": "markdown",
   "metadata": {},
   "source": [
    "####  Southern Hemisphere - Humidity (%) vs. Latitude Linear Regression"
   ]
  },
  {
   "cell_type": "code",
   "execution_count": 61,
   "metadata": {},
   "outputs": [
    {
     "data": {
      "image/png": "[encoded data removed]",
      "text/plain": [
       "<Figure size 432x288 with 1 Axes>"
      ]
     },
     "metadata": {
      "needs_background": "light"
     },
     "output_type": "display_data"
    }
   ],
   "source": [
    "x_values = southern_hemisphere[\"Latitude\"]\n",
    "y_values = southern_hemisphere[\"Humidity\"]\n",
    "plt.title(\"Latitude vs Humidity 08/02/2020\")\n",
    "linear_plot(x_values, y_values, \"Humidity\", (45,10))"
   ]
  },
  {
   "cell_type": "markdown",
   "metadata": {},
   "source": [
    "####  Northern Hemisphere - Cloudiness (%) vs. Latitude Linear Regression"
   ]
  },
  {
   "cell_type": "code",
   "execution_count": 69,
   "metadata": {
    "scrolled": true
   },
   "outputs": [
    {
     "data": {
      "image/png": "[encoded data removed]",
      "text/plain": [
       "<Figure size 432x288 with 1 Axes>"
      ]
     },
     "metadata": {
      "needs_background": "light"
     },
     "output_type": "display_data"
    }
   ],
   "source": [
    "x_values = northern_hemisphere[\"Latitude\"]\n",
    "y_values = northern_hemisphere[\"Cloudiness\"]\n",
    "plt.title(\"Latitude vs Cloudiness--Northern Hemisphere\")\n",
    "linear_plot(x_values, y_values, \"Cloudiness\", (10,60))"
   ]
  },
  {
   "cell_type": "markdown",
   "metadata": {},
   "source": [
    "####  Southern Hemisphere - Cloudiness (%) vs. Latitude Linear Regression"
   ]
  },
  {
   "cell_type": "code",
   "execution_count": 70,
   "metadata": {},
   "outputs": [
    {
     "data": {
      "image/png": "[encoded data removed]",
      "text/plain": [
       "<Figure size 432x288 with 1 Axes>"
      ]
     },
     "metadata": {
      "needs_background": "light"
     },
     "output_type": "display_data"
    }
   ],
   "source": [
    "x_values = southern_hemisphere[\"Latitude\"]\n",
    "y_values = southern_hemisphere[\"Cloudiness\"]\n",
    "plt.title(\"Latitude vs Cloudiness--Southern Hemisphere\")\n",
    "linear_plot(x_values, y_values, \"Cloudiness\", (-50,60))"
   ]
  },
  {
   "cell_type": "markdown",
   "metadata": {},
   "source": [
    "####  Northern Hemisphere - Wind Speed (mph) vs. Latitude Linear Regression"
   ]
  },
  {
   "cell_type": "code",
   "execution_count": 74,
   "metadata": {},
   "outputs": [
    {
     "data": {
      "image/png": "[encoded data removed]",
      "text/plain": [
       "<Figure size 432x288 with 1 Axes>"
      ]
     },
     "metadata": {
      "needs_background": "light"
     },
     "output_type": "display_data"
    }
   ],
   "source": [
    "x_values = northern_hemisphere[\"Latitude\"]\n",
    "y_values = northern_hemisphere[\"Wind Speed\"]\n",
    "plt.title(\"Latitude vs Wind Speed--Northern Hemisphere\")\n",
    "linear_plot(x_values, y_values, \"Wind Speed\", (10,35))"
   ]
  },
  {
   "cell_type": "markdown",
   "metadata": {},
   "source": [
    "####  Southern Hemisphere - Wind Speed (mph) vs. Latitude Linear Regression"
   ]
  },
  {
   "cell_type": "code",
   "execution_count": 75,
   "metadata": {},
   "outputs": [
    {
     "data": {
      "image/png": "[encoded data removed]",
      "text/plain": [
       "<Figure size 432x288 with 1 Axes>"
      ]
     },
     "metadata": {
      "needs_background": "light"
     },
     "output_type": "display_data"
    }
   ],
   "source": [
    "x_values = southern_hemisphere[\"Latitude\"]\n",
    "y_values = southern_hemisphere[\"Wind Speed\"]\n",
    "plt.title(\"Latitude vs Wind Speed--Southern Hemisphere\")\n",
    "linear_plot(x_values, y_values, \"Wind Speed\", (10,35))"
   ]
  }
 ],
 "metadata": {
  "anaconda-cloud": {},
  "kernel_info": {
   "name": "python3"
  },
  "kernelspec": {
   "display_name": "Python 3",
   "language": "python",
   "name": "python3"
  },
  "language_info": {
   "codemirror_mode": {
    "name": "ipython",
    "version": 3
   },
   "file_extension": ".py",
   "mimetype": "text/x-python",
   "name": "python",
   "nbconvert_exporter": "python",
   "pygments_lexer": "ipython3",
   "version": "3.6.10"
  },
  "latex_envs": {
   "LaTeX_envs_menu_present": true,
   "autoclose": false,
   "autocomplete": true,
   "bibliofile": "biblio.bib",
   "cite_by": "apalike",
   "current_citInitial": 1,
   "eqLabelWithNumbers": true,
   "eqNumInitial": 1,
   "hotkeys": {
    "equation": "Ctrl-E",
    "itemize": "Ctrl-I"
   },
   "labels_anchors": false,
   "latex_user_defs": false,
   "report_style_numbering": false,
   "user_envs_cfg": false
  },
  "nteract": {
   "version": "0.12.3"
  }
 },
 "nbformat": 4,
 "nbformat_minor": 2
}
